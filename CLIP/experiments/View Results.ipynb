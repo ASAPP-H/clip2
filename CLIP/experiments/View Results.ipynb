{
 "cells": [
  {
   "cell_type": "code",
   "execution_count": 2,
   "metadata": {},
   "outputs": [],
   "source": [
    "import pickle\n",
    "directory = \"outputs_binary/\"\n",
    "metrics = pickle.load(open(\"%s/fine_metrics.pkl\"% directory, \"rb\"))"
   ]
  },
  {
   "cell_type": "code",
   "execution_count": 8,
   "metadata": {},
   "outputs": [
    {
     "data": {
      "text/plain": [
       "{'tp': 4078,\n",
       " 'actual': 6571,\n",
       " 'possible': 13242,\n",
       " 'precision': 0.620605691675544,\n",
       " 'recall': 0.3079595227307053,\n",
       " 'f1': 0.4116489173774794,\n",
       " 'label_breakdown': {'Imaging-related followup': {'possible': 617,\n",
       "   'actual': 140,\n",
       "   'tp': 75},\n",
       "  'Case-specific instructions for patient': {'possible': 1697,\n",
       "   'actual': 2109,\n",
       "   'tp': 905},\n",
       "  'Medication-related followups': {'possible': 2260,\n",
       "   'actual': 1215,\n",
       "   'tp': 286},\n",
       "  'Appointment-related followup': {'possible': 5983,\n",
       "   'actual': 2734,\n",
       "   'tp': 2139},\n",
       "  'Other helpful contextual information': {'possible': 918,\n",
       "   'actual': 136,\n",
       "   'tp': 0},\n",
       "  'Lab-related followup': {'possible': 1237, 'actual': 230, 'tp': 142},\n",
       "  'Procedure-related followup': {'possible': 530, 'actual': 7, 'tp': 5}}}"
      ]
     },
     "execution_count": 8,
     "metadata": {},
     "output_type": "execute_result"
    }
   ],
   "source": [
    "metrics[\"all\"][\"partial\"]"
   ]
  },
  {
   "cell_type": "code",
   "execution_count": 6,
   "metadata": {},
   "outputs": [],
   "source": [
    "\n",
    "def generate_label_breakdown_table(metrics, type_):\n",
    "    \"\"\"\n",
    "    Input: A dictionary, for example hey\n",
    "    Output: String of the below to copy-paste into latex \n",
    "        Medication-followup & b & c & d &e & f & g& h & d & e\\\\\n",
    "    type can be partial, strict, or exact\n",
    "    \"\"\"\n",
    "    def calc_f1(precision, recall):\n",
    "        if precision + recall == 0:\n",
    "            return 0\n",
    "        return round((2* float(precision * recall)) / float(precision + recall), 3)\n",
    "    def calc_all(lb_type_metric, label_tp, split):\n",
    "        actual = lb_type_metric[split][\"partial\"][\"label_breakdown\"][label_tp][\"actual\"]\n",
    "        if actual == 0:\n",
    "            prec = 0\n",
    "        else:\n",
    "             prec = (float(lb_type_metric[split][\"partial\"][\"label_breakdown\"][label_tp][\"tp\"])/\n",
    "                    float(lb_type_metric[split][\"partial\"][\"label_breakdown\"][label_tp][\"actual\"]))\n",
    "        possible = lb_type_metric[split][\"partial\"][\"label_breakdown\"][label_tp][\"possible\"]\n",
    "        if possible == 0:\n",
    "            recall = 0\n",
    "        else:\n",
    "            recall = (float(lb_type_metric[split][\"partial\"][\"label_breakdown\"][label_tp][\"tp\"])/\n",
    "                    float(lb_type_metric[split][\"partial\"][\"label_breakdown\"][label_tp][\"possible\"]))\n",
    "        f1 = calc_f1(prec, recall)\n",
    "        return round(prec, 3), round(recall, 3), round(f1, 3)\n",
    "\n",
    "    curr_str = [\"Macro average\"]\n",
    "    if type_ == \"partial\":\n",
    "        curr_str.append(\"&\")\n",
    "        curr_str.append(round(metrics[\"all\"][type_][\"precision\"], 3))\n",
    "        curr_str.append(\"&\")\n",
    "        curr_str.append(round(metrics[\"all\"][type_][\"recall\"],2))\n",
    "        curr_str.append(\"&\")\n",
    "        curr_str.append(calc_f1(metrics[\"all\"][type_][\"precision\"],metrics[\"all\"][type_][\"recall\"]))\n",
    "        assert curr_str[-1] == round(metrics[\"all\"][type_][\"f1\"], 3)\n",
    "        curr_str.append(\"&\")\n",
    "        curr_str.append(round(metrics[\"mimic\"][type_][\"precision\"], 3))\n",
    "        curr_str.append(\"&\")\n",
    "        curr_str.append(round(metrics[\"mimic\"][type_][\"recall\"],2))\n",
    "        curr_str.append(\"&\")\n",
    "        curr_str.append(calc_f1(metrics[\"mimic\"][type_][\"precision\"],metrics[\"all\"][type_][\"recall\"]))\n",
    "        curr_str.append(\"&\")\n",
    "        curr_str.append(round(metrics[\"i2b2\"][type_][\"precision\"], 3))\n",
    "        curr_str.append(\"&\")\n",
    "        curr_str.append(round(metrics[\"i2b2\"][type_][\"recall\"],2))\n",
    "        curr_str.append(\"&\")\n",
    "        curr_str.append(calc_f1(metrics[\"i2b2\"][type_][\"precision\"],metrics[\"all\"][type_][\"recall\"]))\n",
    "        curr_str.append(\"\\\\\")\n",
    "        curr_str.append(\" \\midrule \")\n",
    "        for label in metrics[\"all\"][type_][\"label_breakdown\"].keys():\n",
    "            curr_str.append(label.split(\" \")[0])\n",
    "            prec, recall, f1 = calc_all(metrics, label, \"all\")\n",
    "            curr_str.append(\"&\")\n",
    "            curr_str.append(prec)\n",
    "            curr_str.append(\"&\")\n",
    "            curr_str.append(recall)\n",
    "            curr_str.append(\"&\")\n",
    "            curr_str.append(f1)\n",
    "            curr_str.append(\"&\")\n",
    "            prec, recall, f1 = calc_all(metrics, label, \"mimic\")\n",
    "            curr_str.append(prec)\n",
    "            curr_str.append(\"&\")\n",
    "            curr_str.append(recall)\n",
    "            curr_str.append(\"&\")\n",
    "            curr_str.append(f1)\n",
    "            curr_str.append(\"&\")\n",
    "            prec, recall, f1 = calc_all(metrics, label, \"i2b2\")\n",
    "            curr_str.append(prec)\n",
    "            curr_str.append(\"&\")\n",
    "            curr_str.append(recall)\n",
    "            curr_str.append(\"&\")\n",
    "            curr_str.append(f1)\n",
    "            curr_str.append(\"\\\\\")\n",
    "            curr_str.append(\" \\midrule \")\n",
    "    elif type_ == \"strict\": \n",
    "        curr_str.append(\"&\")\n",
    "        curr_str.append(round(metrics[\"all\"][type_][2][\"strict\"][\"precision\"], 3))\n",
    "        curr_str.append(\"&\")\n",
    "        curr_str.append(round(metrics[\"all\"][type_][2][\"strict\"][\"recall\"],2))\n",
    "        curr_str.append(\"&\")\n",
    "        curr_str.append(calc_f1(metrics[\"all\"][type_][2][\"strict\"][\"precision\"], metrics[\"all\"][type_][2][\"strict\"][\"recall\"]))\n",
    "        assert curr_str[-1] == round(metrics[\"all\"][type_][2][\"strict\"][\"f1\"], 3)\n",
    "        curr_str.append(\"&\")\n",
    "        curr_str.append(round(metrics[\"mimic\"][type_][2][\"strict\"][\"precision\"], 3))\n",
    "        curr_str.append(\"&\")\n",
    "        curr_str.append(round(metrics[\"mimic\"][type_][2][\"strict\"][\"recall\"],2))\n",
    "        curr_str.append(\"&\")\n",
    "        curr_str.append(calc_f1(curr_str[-4], curr_str[-2]))\n",
    "        curr_str.append(\"&\")\n",
    "        curr_str.append(round(metrics[\"i2b2\"][type_][2][\"strict\"][\"precision\"], 3))\n",
    "        curr_str.append(\"&\")\n",
    "        curr_str.append(round(metrics[\"i2b2\"][type_][2][\"strict\"][\"recall\"],2))\n",
    "        curr_str.append(\"&\")\n",
    "        curr_str.append(calc_f1(curr_str[-4], curr_str[-2]))\n",
    "        curr_str.append(\"\\\\\")\n",
    "    else:\n",
    "        curr_str.append(\"&\")\n",
    "        curr_str.append(round(metrics[\"all\"][type_][\"precision\"], 3))\n",
    "        curr_str.append(\"&\")\n",
    "        curr_str.append(round(metrics[\"all\"][type_][\"recall\"],2))\n",
    "        curr_str.append(\"&\")\n",
    "        urr_str.append(calc_f1(metrics[\"all\"][type_][\"precision\"],metrics[\"all\"][type_][\"recall\"]))\n",
    "        assert curr_str[-1] == round(metrics[\"all\"][type_][\"f1\"], 3)\n",
    "        curr_str.append(\"&\")\n",
    "        curr_str.append(round(metrics[\"mimic\"][type_][\"precision\"], 3))\n",
    "        curr_str.append(\"&\")\n",
    "        curr_str.append(round(metrics[\"mimic\"][type_][\"recall\"],2))\n",
    "        curr_str.append(\"&\")\n",
    "        urr_str.append(calc_f1(metrics[\"mimic\"][type_][\"precision\"],metrics[\"all\"][type_][\"recall\"]))\n",
    "        curr_str.append(\"&\")\n",
    "        curr_str.append(round(metrics[\"i2b2\"][type_][\"precision\"], 3))\n",
    "        curr_str.append(\"&\")\n",
    "        curr_str.append(round(metrics[\"i2b2\"][type_][\"recall\"],2))\n",
    "        curr_str.append(\"&\")\n",
    "        curr_str.append(calc_f1(metrics[\"i2b2\"][type_][\"precision\"],metrics[\"all\"][type_][\"recall\"]))\n",
    "        curr_str.append(\"\\\\\")\n",
    "    curr_str = [str(x).replace(\"\\\\midrule\", \"\\midrule\") for x in curr_str]\n",
    "    return \"\".join(curr_str)"
   ]
  },
  {
   "cell_type": "code",
   "execution_count": 9,
   "metadata": {},
   "outputs": [],
   "source": [
    "table = generate_label_breakdown_table(metrics, \"partial\")"
   ]
  },
  {
   "cell_type": "code",
   "execution_count": 10,
   "metadata": {},
   "outputs": [
    {
     "data": {
      "text/plain": [
       "'Macro average&0.66&0.56&0.61&0.63&0.55&0.6&0.7&0.57&0.62\\\\ \\\\midrule Imaging&0.73&0.21&0.32&0.69&0.27&0.39&0.78&0.16&0.27\\\\ \\\\midrule Case&0.43&0.66&0.52&0.33&0.79&0.47&0.69&0.55&0.61\\\\ \\\\midrule Medication&0.36&0.33&0.35&0.42&0.29&0.34&0.29&0.46&0.35\\\\ \\\\midrule Appointment&0.81&0.73&0.77&0.83&0.75&0.79&0.79&0.72&0.75\\\\ \\\\midrule Other&0.12&0.04&0.07&0.18&0.07&0.11&0.05&0.02&0.02\\\\ \\\\midrule Lab&0.78&0.33&0.46&0.94&0.26&0.4&0.65&0.48&0.56\\\\ \\\\midrule Procedure&0.45&0.04&0.07&0.47&0.04&0.07&0.44&0.04&0.07\\\\ \\\\midrule '"
      ]
     },
     "execution_count": 10,
     "metadata": {},
     "output_type": "execute_result"
    }
   ],
   "source": [
    "table"
   ]
  },
  {
   "cell_type": "code",
   "execution_count": 13,
   "metadata": {},
   "outputs": [
    {
     "data": {
      "text/plain": [
       "{'strict': 0.013047873050060515}"
      ]
     },
     "execution_count": 13,
     "metadata": {},
     "output_type": "execute_result"
    }
   ],
   "source": [
    "metrics[\"all\"][\"strict\"][1]"
   ]
  }
 ],
 "metadata": {
  "kernelspec": {
   "display_name": "Python 3",
   "language": "python",
   "name": "python3"
  }
 },
 "nbformat": 4,
 "nbformat_minor": 2
}
