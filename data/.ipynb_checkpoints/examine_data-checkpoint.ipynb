{
 "cells": [
  {
   "cell_type": "code",
   "execution_count": 40,
   "metadata": {},
   "outputs": [],
   "source": [
    "import pandas as pd\n",
    "train_fine = pd.read_csv(\"processed/MIMIC_train_finegrained.csv\")"
   ]
  },
  {
   "cell_type": "code",
   "execution_count": 41,
   "metadata": {},
   "outputs": [
    {
     "data": {
      "text/html": [
       "<div>\n",
       "<style scoped>\n",
       "    .dataframe tbody tr th:only-of-type {\n",
       "        vertical-align: middle;\n",
       "    }\n",
       "\n",
       "    .dataframe tbody tr th {\n",
       "        vertical-align: top;\n",
       "    }\n",
       "\n",
       "    .dataframe thead th {\n",
       "        text-align: right;\n",
       "    }\n",
       "</style>\n",
       "<table border=\"1\" class=\"dataframe\">\n",
       "  <thead>\n",
       "    <tr style=\"text-align: right;\">\n",
       "      <th></th>\n",
       "      <th>Unnamed: 0</th>\n",
       "      <th>document_id</th>\n",
       "      <th>labels</th>\n",
       "      <th>tokens</th>\n",
       "    </tr>\n",
       "  </thead>\n",
       "  <tbody>\n",
       "    <tr>\n",
       "      <th>0</th>\n",
       "      <td>0</td>\n",
       "      <td>51091</td>\n",
       "      <td>[[['O'], ['O'], ['O'], ['O'], ['O'], ['O'], ['...</td>\n",
       "      <td>[['Admission', 'Date', ':', '[', '**2149-5-5**...</td>\n",
       "    </tr>\n",
       "    <tr>\n",
       "      <th>1</th>\n",
       "      <td>1</td>\n",
       "      <td>58264</td>\n",
       "      <td>[[['O'], ['O'], ['O'], ['O'], ['O'], ['O'], ['...</td>\n",
       "      <td>[['Name', ':', '[', '**Known', 'lastname', '13...</td>\n",
       "    </tr>\n",
       "    <tr>\n",
       "      <th>2</th>\n",
       "      <td>2</td>\n",
       "      <td>34338</td>\n",
       "      <td>[[['O'], ['O'], ['O'], ['O'], ['O'], ['O'], ['...</td>\n",
       "      <td>[['Admission', 'Date', ':', '[', '**2171-11-1*...</td>\n",
       "    </tr>\n",
       "    <tr>\n",
       "      <th>3</th>\n",
       "      <td>3</td>\n",
       "      <td>52289</td>\n",
       "      <td>[[['O'], ['O'], ['O'], ['O'], ['O'], ['O'], ['...</td>\n",
       "      <td>[['Admission', 'Date', ':', '[', '**2180-10-30...</td>\n",
       "    </tr>\n",
       "    <tr>\n",
       "      <th>4</th>\n",
       "      <td>4</td>\n",
       "      <td>28321</td>\n",
       "      <td>[[['O'], ['O'], ['O'], ['O'], ['O'], ['O'], ['...</td>\n",
       "      <td>[['Admission', 'Date', ':', '[', '**2123-8-25*...</td>\n",
       "    </tr>\n",
       "  </tbody>\n",
       "</table>\n",
       "</div>"
      ],
      "text/plain": [
       "   Unnamed: 0  document_id                                             labels  \\\n",
       "0           0        51091  [[['O'], ['O'], ['O'], ['O'], ['O'], ['O'], ['...   \n",
       "1           1        58264  [[['O'], ['O'], ['O'], ['O'], ['O'], ['O'], ['...   \n",
       "2           2        34338  [[['O'], ['O'], ['O'], ['O'], ['O'], ['O'], ['...   \n",
       "3           3        52289  [[['O'], ['O'], ['O'], ['O'], ['O'], ['O'], ['...   \n",
       "4           4        28321  [[['O'], ['O'], ['O'], ['O'], ['O'], ['O'], ['...   \n",
       "\n",
       "                                              tokens  \n",
       "0  [['Admission', 'Date', ':', '[', '**2149-5-5**...  \n",
       "1  [['Name', ':', '[', '**Known', 'lastname', '13...  \n",
       "2  [['Admission', 'Date', ':', '[', '**2171-11-1*...  \n",
       "3  [['Admission', 'Date', ':', '[', '**2180-10-30...  \n",
       "4  [['Admission', 'Date', ':', '[', '**2123-8-25*...  "
      ]
     },
     "execution_count": 41,
     "metadata": {},
     "output_type": "execute_result"
    }
   ],
   "source": [
    "train_fine.head()"
   ]
  },
  {
   "cell_type": "code",
   "execution_count": 42,
   "metadata": {},
   "outputs": [
    {
     "name": "stdout",
     "output_type": "stream",
     "text": [
      "Example of a document\n"
     ]
    },
    {
     "data": {
      "text/plain": [
       "\"Admission Date : [ **2149-5-5** ] Discharge Date : [ **2149-5-12** ] Date of Birth : [ **2087-9-28** ] Sex : F Service : MEDICINE Allergies : Ms Contin Attending : [ **First Name3 ( LF ) 12** ] Chief Complaint : Fever , abdominal pain . Major Surgical or Invasive Procedure : [ **First Name3 ( LF ) ** ] with metal stent placement on [ **2149-5-6** ] . RIJ placement on [ **2149-5-6** ] Arterial line placement on [ **2149-5-6** ] Arterial line removal on [ **2149-5-9** ] RIJ removal on [ **2149-5-11** ] Left midline placement on [ **2149-5-11** ] History of Present Illness : Ms. [ **Known lastname 2973** ] is a 61 yo woman w/hx of recently diagnosed pancreatic cancer metastatic to the liver who presents with fever , jaundice and pain for the last 2 days . Patient states that after being discharged she was doing great at home . Her pain was controlled , she was urinating and moving her bowels , very active . She only noted that her apetite was slighlty decreased . She went to see her oncologist , who decided to get a liver MRI as outpatient to stage the cancer and to assess for possible liver infiltration and biopsy . She was getting herself her antibiotics ( unasyn 3 g q6hrs ) for cholangitis . She finished the treatment Saturday afternoon ( 2 days ago ) . 24 hours later , she started noticing chills , rigors and fever up to 102.7 today in the morning . She was scheduled for and MRI today and was not eating or drinking anything . She came to the ER . . In the ER was found to have T 99.3 , BP 126/99 , HR 146 , RR 16 , SpO2 97 % on RA . Then she spiked to 102.7 F. She had nondistended abomen , was very dehydrated and received 3 L NS . Her bilirubin was slighlty elevated from discharge ( 5.4 from 5.1 ) . Her lactate was 3.6 . Her liver USG showed persistent pneumobilia , with large gallbladder without any duct dilation . She received Vanc/Zosyn , Tylenol and IV Dilaudid ( 1 mg ) . She was admitted to OMED for further management of her cholecystitis . Her VS before transfer per ED report were : 98.3 HR 83 BP 100/60 o2 sats 90 's on 2L . . While on the OMED service , she continued to spike fevers and her lab data showed a worsening leukocytosis to 22.1 with 20 % bands . Today she became tachycardic to the 140s which was fluid responsive but her SBP concurrently dropped from the 140s to the low 100s . She underwent an abdominal MRI which showed worsening CBD dilation and numerous cm and sub-cm lesions in the liver , concerning for new mets vs. abscesses . She went to [ **Known lastname ** ] and became hypotensive to the systolic 70s prior to the procedure . She received 2L NS bolus and was started on peripheral phenylephrine . In [ **Known lastname ** ] , pus was draining from her old stent which was pulled and replaced with a larger metal stent of 10mm diameter . Upon placement , found to have good drainage of frank pus . A-line was placed in the OR . She was on both Levo and Neo prior to transfer and has received an addition 4L of LR . . In the [ **Hospital Unit Name 153** ] , her sedation was weaned and she was extubated without difficulty . Pressors were weaned . Vancomycin and zosyn were continued . He was given PO vitamin K. Past Medical History : PAST ONCOLOGIC HISTORY : ====================== Initially presented with abdominal pain to [ **Hospital3 ** ] , had T. Bili of 24 . Abdominal CT and ultraound demonstarted a pancreatic mass obstructing the bile duct . She underwent [ **Hospital3 ** ] with stent placement [ **4-11** ] at OSH and then due to rising total bilirubin had a repeat [ **Month/Year ( 2 ) ** ] at [ **Hospital1 18** ] on [ **2149-4-15** ] during which her initial stent was removed and a new stent was placed . She underwent an EUS guided biopsy of her pancreatic mass on [ **2149-4-17** ] showing adenocarcinoma . . PAST MEDICAL HISTORY : ================== GERD Social History : Lives at home with her husband and daughter . Smokes 1 pack/day . Denies IV drug use , EtOH . Family History : Mother with COPD . Brother with cirrhosis ( due to EtOH ) . 2 Aunts with breast cancer , 1 of them also had uterine cancer . Grandmother with DM . Uncle had MI . Physical Exam : VITAL SIGNS - Temp 99.3 F , BP 113/82mmHg , HR 102 BPM , O2 100 % on A/C TV 500 RR 14 PEEP 5 FIO2 100 % GENERAL - Intubated and sedated HEENT - NC/AT , PERRLA , EOMI , sclerae icteric , mildy dry mucous membranes , OP clear NECK - supple , no thyromegaly , no JVD , no carotid bruits LUNGS - CTA bilat , no r/rh/wh , good air movement , resp unlabored , no accessory muscle use HEART - PMI non-displaced , RRR , no MRG , nl S1-S2 ABDOMEN - NABS , soft/NT/ND , no masses or HSM , no rebound/guarding EXTREMITIES - WWP , no c/c/e , 2+ peripheral pulses ( radials , DPs ) SKIN - no rashes or lesions , jaundice LYMPH - no cervical , axillary , or inguinal LAD NEURO - Intubated and sedated but moving all four extremities Pertinent Results : On Admission : [ **2149-5-5** ] 10:40AM WBC-12.6* # RBC-3.68* HGB-11.8* HCT-33.1* MCV-90 MCH-32.1* MCHC-35.6* RDW-18.1* [ **2149-5-5** ] 10:40AM NEUTS-89* BANDS-6* LYMPHS-1* MONOS-0 EOS-1 BASOS-1 ATYPS-2* METAS-0 MYELOS-0 [ **2149-5-5** ] 10:40AM HYPOCHROM-NORMAL ANISOCYT-1+ POIKILOCY-OCCASIONAL MACROCYT-1+ MICROCYT-OCCASIONAL POLYCHROM-1+ TEARDROP-OCCASIONAL [ **2149-5-5** ] 10:40AM PLT SMR-HIGH PLT COUNT-467* [ **2149-5-5** ] 10:40AM PT-16.2* PTT-25.4 INR ( PT ) -1.4* [ **2149-5-5** ] 10:40AM GLUCOSE-132* UREA N-8 CREAT-1.0 SODIUM-137 POTASSIUM-4.1 CHLORIDE-102 TOTAL CO2-18* ANION GAP-21* [ **2149-5-5** ] 10:40AM ALT ( SGPT ) -98* AST ( SGOT ) -123* ALK PHOS-343* TOT BILI-5.4* [ **2149-5-5** ] 10:40AM LIPASE-18 [ **2149-5-5** ] 10:40AM ALBUMIN-3.7 [ **2149-5-5** ] 11:40AM URINE COLOR-Yellow APPEAR-Clear SP [ **Last Name ( un ) 155** ] -1.012 [ **2149-5-5** ] 11:40AM URINE BLOOD-NEG NITRITE-NEG PROTEIN-NEG GLUCOSE-NEG KETONE-TR BILIRUBIN-SM UROBILNGN-4* PH-5.0 LEUK-NEG . Abdominal USG [ **2149-5-5** ] : 1 . Increased size of right and left lobe liver lesions compared to prior study , with focal adjacent biliary ductal dilatation . 2 . Persistent pneumobilia . 3 . Aside from aforementioned ductal dilatation adjacent to focal liver lesions , there is no generalized intrahepatic ductal dilatation . Common bile duct measures 5 mm . 4 . Decompressed gallbladder , with unchanged cholelithiasis and mild wall thickening . Findings may be seen with chronic cholecystitis . 5 . Redemonstration of a simple left kidney cyst . . MRI of the liver [ **2149-5-6** ] : 1 . Significant dilatation of the common bile duct which is increased from the previous study . There is also intrahepatic biliary ductal dilatation . There is sludge within the gallbladder . Distal biliary stent is seen in the common bile duct . 2 . Rapidly enlarging liver lesions . The larger ones are not clearly enhancing and are of increased signal intensity on T2-weighted images . The concern is for multifocal abscesses ( vs metastatic disease ) and short-term followup is recommended . 3 . Mass in the pancreatic head without significant change , compatible with pancreatic carcinoma . 4 . No evidence to suggest acute cholecystitis . Unilateral ( left ) venous USG : Focused exam without evidence of DVT . If more complete exam for superficial thrombosis is desired , a dedicated exam can be obtained in the future . Brief Hospital Course : 61 year-old woman with metastatic pancreatic cancer was admitted with cholangitis culminating in septic shock , now s/p biliary drainage procedure , improving . . # Cholangitis : Patient presented with fever and RUQ that was concerning for cholangitis . She was immediately started in IVF and antibiotics ( Vanc/Zosyn Day 1 [ **2149-5-6** ] ) . Since prior therapy with Unasyn failed Zosyn was chosen . The following day her WBC almost doubled ( 11 -- > 22 ) and her bilirubin was trending up ( 5.4 -- > 5.9 ) . An [ **Year ( 4 digits ) ** ] was planned to be done the same day , while waiting a repeat MRI was done to further assess her liver metastasis . The report came as new masses in the liver concerning for abscesses or cancer in the liver that were new from prior MRI 2 weeks prior as well as 2.5 cm ductal dilation ( See report for details ) . Patient became tachycardic and did not respond to 1.5 L NS . Minutes later patient required central line placement , arterial line and intubation prior to [ **Year ( 4 digits ) ** ] . In the [ **Year ( 4 digits ) ** ] pus was drained from the biliary duct . The plastic stent was removed and new metal stent was placed . She was transfered to the ICU , due to pressor and ventilator requirements . Both were stopped ( levophed and mechanical ventilation ) on day 3 of ICU stay . Antibiotics were continued and she improved . On [ **2149-5-11** ] she was transfered to the oncology floor , where she tolerated regular diet and her pain was controlled . Vancomycin was stopped . Upon discharge her bilirubin was 2.8 and trending down . Follow up with oncology was arranged and warning signs and symptoms were explained . She was discharged with home VNA and a left midline to complete a 14-day of IV Zosyn . . # Pancreatic cancer : With possible metastatic disease in the liver . MRI findings equivacal for abscess vs MRI . She will need follow up MRI . . # LUE swelling : concerning for DVT while in the ICU and before placing midline . DVT was ruled out with USG/doppler . It was thought it was due to fluid administration . . # . GERD : currently asymptomatic . Therapy with omeprazole/ranitidine was continued . . # . FEN : Regular diet . . # . Access : RIJ , midline and peripherals ( See above ) . . # . PPx - -DVT ppx with SQ Heparin -Bowel regimen colace/senna -Pain management with home regimen Fentanyl Patch plus Dilaudid . # . Code - Full code . . # . Dispo - Home with VNA . Medications on Admission : Colace 100mg PO BID Ursodiol 300mg PO BID X 10 days Nicotine Patch 21mg/24H Ranitidine 150 mg PO BID Omeprazole 20 mg PO DAily Hydromorphone 2 mg PO 14hrs PRN pain Fentanyl 25 mcg/hr TD Every third day Discharge Medications : 1 . Piperacillin-Tazobactam-Dextrs 4.5 gram/100 mL Piggyback Sig : One ( 1 ) Piggyback Intravenous Q8H ( every 8 hours ) for 7 days : Last day [ **2149-5-16** ] . Disp : *21 Piggyback* Refills : *0* 2 . Line care Please do midline care per protocol . 3 . Remove Line Please remove midline after antibiotic course is finsihed . 4 . Docusate Sodium 100 mg Capsule Sig : Two ( 2 ) Capsule PO BID ( 2 times a day ) . Disp : *120 Capsule ( s ) * Refills : *2* 5 . Senna 8.6 mg Tablet Sig : One ( 1 ) Tablet PO BID ( 2 times a day ) . Disp : *60 Tablet ( s ) * Refills : *2* 6 . Polyethylene Glycol 3350 100 % Powder Sig : One ( 1 ) Packet PO DAILY ( Daily ) as needed . Disp : *10 Packets* Refills : *0* 7 . Bisacodyl 5 mg Tablet , Delayed Release ( E.C . ) Sig : Two ( 2 ) Tablet , Delayed Release ( E.C . ) PO DAILY ( Daily ) as needed . Disp : *15 Tablet , Delayed Release ( E.C . ) ( s ) * Refills : *0* 8 . Ursodiol 300 mg Capsule Sig : One ( 1 ) Capsule PO BID ( 2 times a day ) . 9 . Nicotine 21 mg/24 hr Patch 24 hr Sig : One ( 1 ) Patch 24 hr Transdermal DAILY ( Daily ) . 10 . Ranitidine HCl 150 mg Tablet Sig : One ( 1 ) Tablet PO BID ( 2 times a day ) . 11 . Omeprazole 20 mg Capsule , Delayed Release ( E.C . ) Sig : Two ( 2 ) Capsule , Delayed Release ( E.C . ) PO DAILY ( Daily ) . 12 . Saline Flush 0.9 % Syringe Sig : One ( 1 ) Syringes Injection once a day as needed for As needed for 7 days . Disp : *7 Syringes* Refills : *0* 13 . Heparin , Porcine ( PF ) 10 unit/mL Syringe Sig : One ( 1 ) ML Intravenous PRN ( as needed ) as needed for line flush . Disp : *10 Syringes* Refills : *0* 14 . Fentanyl 25 mcg/hr Patch 72 hr Sig : One ( 1 ) Patch 72 hr Transdermal Q72H ( every 72 hours ) . 15 . Miconazole Nitrate 2 % Powder Sig : One ( 1 ) Appl Topical [ **Hospital1 ** ] ( 2 times a day ) . 16 . Alum-Mag Hydroxide-Simeth 200-200-20 mg/5 mL Suspension Sig : 15-30 MLs PO QID ( 4 times a day ) as needed . 17 . Hydromorphone 2 mg Tablet Sig : 1-2 Tablets PO Q4H ( every 4 hours ) as needed for pain . Disp : *120 Tablet ( s ) * Refills : *0* Discharge Disposition : Home With Service Facility : [ **Company 1519** ] Discharge Diagnosis : Primary Diagnosis : Acute cholangitis secodnary to stent obstruction due to pancreatic cancer . . Secondary Diagnosis : Pancreatic cancer GERD Discharge Condition : Stable , tolerating PO , walking . Discharge Instructions : You were seen at the [ **Hospital1 18** ] for fever . You had an USG done that did not show any ductal dilation . You were given fluids and antibiotics . The following morning you had an MRI of your liver to evaluate your cancer and we found multiple new lesions and big ductal dilation . You had a fever , you received more natibiotics , fluids and had an [ **Hospital1 ** ] where they removed a lot of pus in your biliary ducts , your stent was removed and then a new metal stent was palced . . You required ICU care with central line placement , arterial line and ventilatory support with aggresive antibiotic therapy as well as medications to keep your blood pressure adequate . Then you improved . You been tolerating diet and afebrile . You will need to follow with your oncologist as below . . If you have fever , get yellow , have abdominal pain , chills , rigors or anything else that concerns you come back to our ER . Followup Instructions : Please follow up with your oncologist : Provider : [ **Name10 ( NameIs ) ** ] [ **Name8 ( MD ) ** ] , MD Phone : [ **Telephone/Fax ( 1 ) 22** ] Date/Time : [ **2149-5-23** ] 9:00 Provider : [ **First Name11 ( Name Pattern1 ) ** ] [ **Last Name ( NamePattern4 ) 23551** ] , MD Phone : [ **Telephone/Fax ( 1 ) 447** ] Date/Time : [ **2149-5-23** ] 9:00\""
      ]
     },
     "execution_count": 42,
     "metadata": {},
     "output_type": "execute_result"
    }
   ],
   "source": [
    "print(\"Example of a document\")\n",
    "sentences = eval(train_fine.iloc[0][\"tokens\"])\n",
    "tokens = [x for y in sentences for x in y]\n",
    "\" \".join(tokens)"
   ]
  },
  {
   "cell_type": "code",
   "execution_count": 43,
   "metadata": {},
   "outputs": [
    {
     "name": "stdout",
     "output_type": "stream",
     "text": [
      "Example of corresponding labels\n"
     ]
    },
    {
     "data": {
      "text/plain": [
       "'. Follow up with oncology was arranged and warning signs and symptoms were explained . She was discharged with home VNA and a left midline to complete a 14-day of IV Zosyn'"
      ]
     },
     "execution_count": 43,
     "metadata": {},
     "output_type": "execute_result"
    }
   ],
   "source": [
    "print(\"Example of corresponding labels\")\n",
    "\" \".join(tokens[1639: 1671])"
   ]
  }
 ],
 "metadata": {
  "kernelspec": {
   "display_name": "Python 3",
   "language": "python",
   "name": "python3"
  },
  "language_info": {
   "codemirror_mode": {
    "name": "ipython",
    "version": 3
   },
   "file_extension": ".py",
   "mimetype": "text/x-python",
   "name": "python",
   "nbconvert_exporter": "python",
   "pygments_lexer": "ipython3",
   "version": "3.6.8"
  }
 },
 "nbformat": 4,
 "nbformat_minor": 2
}
